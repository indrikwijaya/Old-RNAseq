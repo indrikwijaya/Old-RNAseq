{
 "cells": [
  {
   "cell_type": "code",
   "execution_count": 1,
   "metadata": {
    "collapsed": true
   },
   "outputs": [],
   "source": [
    "import os \n",
    "import pandas as pd\n",
    "from pandas import ExcelWriter\n",
    "from openpyxl import load_workbook\n",
    "import numpy as np\n",
    "import matplotlib\n",
    "import matplotlib.pyplot as plt\n",
    "import seaborn as sns\n",
    "from matplotlib.pyplot import cm "
   ]
  },
  {
   "cell_type": "code",
   "execution_count": 2,
   "metadata": {
    "collapsed": true
   },
   "outputs": [],
   "source": [
    "cont_dir = '/Users/indrikwijaya/Desktop/fyp/bl_fa/t4/'\n",
    "t4_dir = os.listdir(cont_dir)\n",
    "t4_files = list(filter(lambda x: x!='.DS_Store', t4_dir))\n",
    "t4_files_path = list(map(lambda x: cont_dir+x, t4_files))\n",
    "t4_files_dict = {x.split(\"/\")[-1][:6]:x for x in t4_files_path}\n",
    "\n",
    "rpf_tot_1_bl = '/Users/indrikwijaya/Desktop/fyp/bl_fa/t4/CGATGT-s_6_1/bl/'\n",
    "rpf_tot_1_fa = '/Users/indrikwijaya/Desktop/fyp/bl_fa/t4/CGATGT-s_6_1/fa/'\n",
    "rpf_tot_2_bl = '/Users/indrikwijaya/Desktop/fyp/bl_fa/t4/GATCAG-s_6_1/bl/'\n",
    "rpf_tot_2_fa = '/Users/indrikwijaya/Desktop/fyp/bl_fa/t4/GATCAG-s_6_1/fa/'\n",
    "\n",
    "rna_tot_1_bl = '/Users/indrikwijaya/Desktop/fyp/bl_fa/t4/TAGCTT-s_6_1/bl/'\n",
    "rna_tot_1_fa = '/Users/indrikwijaya/Desktop/fyp/bl_fa/t4/TAGCTT-s_6_1/fa/'\n",
    "rna_tot_2_bl = '/Users/indrikwijaya/Desktop/fyp/bl_fa/t4/GGCTAC-s_6_1/bl/'\n",
    "rna_tot_2_fa = '/Users/indrikwijaya/Desktop/fyp/bl_fa/t4/GGCTAC-s_6_1/fa/'\n",
    "\n",
    "\n",
    "def list_files(dir):\n",
    "    list_of_files = []\n",
    "    for i in os.listdir(dir):\n",
    "        list_of_files.append(dir+i)\n",
    "    return list_of_files\n",
    "\n",
    "cagatc_bl_files = list_files('/Users/indrikwijaya/Desktop/fyp/bl_fa/t6/CAGATC-s_4_1_seed29/bl/')\n",
    "cagatc_fa_files = list_files('/Users/indrikwijaya/Desktop/fyp/bl_fa/t6/CAGATC-s_4_1_seed29/fa/')\n",
    "tgacca_bl_files = list_files('/Users/indrikwijaya/Desktop/fyp/bl_fa/t6/TGACCA-s_4_1_seed29/bl/')\n",
    "tgacca_fa_files = list_files('/Users/indrikwijaya/Desktop/fyp/bl_fa/t6/TGACCA-s_4_1_seed29/fa/')\n",
    "gccaat_bl_files = list_files('/Users/indrikwijaya/Desktop/fyp/bl_fa/t6/GCCAAT-s_4_1_seed29/bl/')\n",
    "gccaat_fa_files = list_files('/Users/indrikwijaya/Desktop/fyp/bl_fa/t6/GCCAAT-s_4_1_seed29/fa/')\n",
    "acagtg_bl_files = list_files('/Users/indrikwijaya/Desktop/fyp/bl_fa/t6/ACAGTG-s_4_1_seed29/bl/')\n",
    "acagtg_fa_files = list_files('/Users/indrikwijaya/Desktop/fyp/bl_fa/t6/ACAGTG-s_4_1_seed29/fa/')\n",
    "\n"
   ]
  },
  {
   "cell_type": "code",
   "execution_count": 3,
   "metadata": {
    "collapsed": true
   },
   "outputs": [],
   "source": [
    "rpf_tot_1_bl_files = list_files(rpf_tot_1_bl)\n",
    "rpf_tot_1_fa_files = list_files(rpf_tot_1_fa)\n",
    "rpf_tot_2_bl_files = list_files(rpf_tot_2_bl)\n",
    "rpf_tot_2_fa_files = list_files(rpf_tot_2_fa)\n",
    "\n",
    "rna_tot_1_bl_files = list_files(rna_tot_1_bl)\n",
    "rna_tot_1_fa_files = list_files(rna_tot_1_fa)\n",
    "rna_tot_2_bl_files = list_files(rna_tot_2_bl)\n",
    "rna_tot_2_fa_files = list_files(rna_tot_2_fa)\n",
    "\n"
   ]
  },
  {
   "cell_type": "code",
   "execution_count": 4,
   "metadata": {
    "collapsed": true
   },
   "outputs": [],
   "source": [
    "def merge_bl_fa(bl_file, fa_file, contaminant):\n",
    "#     print(bl_file)\n",
    "#     print(fa_file)\n",
    "    bl = pd.read_csv(bl_file, sep = '\\t', \n",
    "                  header = None,\n",
    "                  names = ['id','chr', 'NA', 'length', 'NA', 'NA', 'NA', 'length', 'start', 'end', 'rRNA', 'tRNA'])[:-1]\n",
    "    \n",
    "    bl = bl[['id','chr','length', 'start', 'end', 'rRNA', 'tRNA']]\n",
    "    #filter rRNA &tRNA\n",
    "    if contaminant == 'rRNA':\n",
    "        bl = bl[bl['rRNA'] =='rRNA']\n",
    "        bl = bl[['id','chr','length', 'start', 'end']]\n",
    "    else:\n",
    "        bl = bl[bl['tRNA'] =='tRNA']\n",
    "        bl = bl[['id','chr','length', 'start', 'end']]\n",
    "    #bl = bl[(bl['rRNA'] =='rRNA') | (bl['tRNA'] == 'tRNA')]\n",
    "    \n",
    "    bl['read_num'] = bl['id'].str.split('_')\n",
    "    bl['read_num'] = bl.apply(lambda x: float(x['read_num'][1]), axis = 1)\n",
    "    bl['read_pct'] = bl.apply(lambda x: x['read_num']/sum(bl['read_num']), axis = 1)\n",
    "    bl = bl.sort_values(['read_num'], ascending = False)\n",
    "#     print(bl)\n",
    "    \n",
    "    fa = list(open(fa_file))\n",
    "    fa = list(map(lambda x: x.replace(\"\\n\",\"\"), fa))\n",
    "    fa = list(map(lambda x: x.replace(\">\", \"\"), fa))\n",
    "\n",
    "    fa_list = []\n",
    "    fa_id = fa[0::2]\n",
    "    fa_seq = fa[1::2]\n",
    "    for i in range(0, len(fa_id)):\n",
    "        fa_list.append((fa_id[i], fa_seq[i]))\n",
    "\n",
    "    fa_df = pd.DataFrame(fa_list, columns = ['id', 'seq'])\n",
    "#     print(fa_df)\n",
    "    cont_df = pd.merge(bl, fa_df, how = 'inner', on = 'id')\n",
    "    cont_df = cont_df.reindex(columns = ['id', 'seq', 'chr', 'length', 'start', 'end', 'read_num', 'read_pct'])\n",
    "\n",
    "    return cont_df\n",
    "\n"
   ]
  },
  {
   "cell_type": "code",
   "execution_count": 6,
   "metadata": {
    "collapsed": true
   },
   "outputs": [],
   "source": [
    "def save_to_excel(path, bl_files, fa_files, contaminant):\n",
    "    lengths = list(map(lambda x: int(x.split(\".\")[-2]), bl_files))\n",
    "    writer = pd.ExcelWriter(path, engine = 'xlsxwriter')\n",
    "\n",
    "    for i in lengths:\n",
    "        bl_i = list(filter(lambda x: int(x.split(\".\")[-2]) == i, bl_files))[0]\n",
    "        fa_i = list(filter(lambda x: int(x.split(\".\")[-2]) == i, fa_files))[0]\n",
    "        \n",
    "        bl_fa = merge_bl_fa(bl_i, fa_i, contaminant)\n",
    "        \n",
    "        bl_fa.to_excel(writer, sheet_name = str(i))\n",
    "    writer.save()\n",
    "    "
   ]
  },
  {
   "cell_type": "code",
   "execution_count": 141,
   "metadata": {},
   "outputs": [
    {
     "name": "stderr",
     "output_type": "stream",
     "text": [
      "/Users/indrikwijaya/anaconda3/lib/python3.6/site-packages/IPython/core/interactiveshell.py:2862: DtypeWarning: Columns (11) have mixed types. Specify dtype option on import or set low_memory=False.\n",
      "  exec(code_obj, self.user_global_ns, self.user_ns)\n"
     ]
    }
   ],
   "source": [
    "save_to_excel('/Users/indrikwijaya/Desktop/fyp/t4/CGATGT_rRNA.xlsx', rpf_tot_1_bl_files, rpf_tot_1_fa_files, 'rRNA')\n",
    "save_to_excel('/Users/indrikwijaya/Desktop/fyp/t4/CGATGT_tRNA.xlsx', rpf_tot_1_bl_files, rpf_tot_1_fa_files, 'tRNA')\n",
    "save_to_excel('/Users/indrikwijaya/Desktop/fyp/t4/GATACG_rRNA.xlsx', rpf_tot_2_bl_files, rpf_tot_2_fa_files, 'rRNA')\n",
    "#save_to_excel('/Users/indrikwijaya/Desktop/fyp/t4/GATACG_tRNA.xlsx', rpf_tot_2_bl_files, rpf_tot_2_fa_files, 'tRNA')\n",
    "save_to_excel('/Users/indrikwijaya/Desktop/fyp/t4/TAGCTT_rRNA.xlsx', rna_tot_1_bl_files, rna_tot_1_fa_files, 'rRNA')\n",
    "save_to_excel('/Users/indrikwijaya/Desktop/fyp/t4/TAGCTT_tRNA.xlsx', rna_tot_1_bl_files, rna_tot_1_fa_files, 'tRNA')\n",
    "save_to_excel('/Users/indrikwijaya/Desktop/fyp/t4/GGCTAC_rRNA.xlsx', rna_tot_2_bl_files, rna_tot_2_fa_files, 'rRNA')\n",
    "save_to_excel('/Users/indrikwijaya/Desktop/fyp/t4/GGCTAC_tRNA.xlsx', rna_tot_2_bl_files, rna_tot_2_fa_files, 'tRNA')"
   ]
  },
  {
   "cell_type": "markdown",
   "metadata": {},
   "source": [
    "# Filter Root Sequences"
   ]
  },
  {
   "cell_type": "code",
   "execution_count": 5,
   "metadata": {
    "collapsed": true
   },
   "outputs": [],
   "source": [
    "def combine_all_pd(bl_files, fa_files, contaminant):\n",
    "    lengths = list(map(lambda x: int(x.split(\".\")[-2]), bl_files))\n",
    "    \n",
    "    combined_pd = pd.DataFrame(columns = ['id', 'seq', 'chr', 'length', 'start', 'end', 'read_num', 'read_pct'])\n",
    "    for i in lengths:\n",
    "        bl_i = list(filter(lambda x: int(x.split(\".\")[-2]) == i, bl_files))[0]\n",
    "        fa_i = list(filter(lambda x: int(x.split(\".\")[-2]) == i, fa_files))[0]\n",
    "        \n",
    "        bl_fa = merge_bl_fa(bl_i, fa_i, contaminant)\n",
    "        #bl_fa = bl_fa[bl_fa['read_num']>20]\n",
    "        combined_pd = pd.concat([combined_pd, bl_fa])\n",
    "    \n",
    "    return combined_pd\n",
    "        \n"
   ]
  },
  {
   "cell_type": "code",
   "execution_count": 18,
   "metadata": {
    "collapsed": true
   },
   "outputs": [],
   "source": [
    "#tgacca_count = combine_all_pd(tgacca_bl_files, tgacca_fa_files, 'rRNA')\n",
    "gccaat_count = combine_all_pd(gccaat_bl_files, gccaat_fa_files, 'rRNA')\n",
    "cagatc_count = combine_all_pd(cagatc_bl_files, cagatc_fa_files, 'rRNA')\n",
    "acagtg_count = combine_all_pd(acagtg_bl_files, acagtg_fa_files, 'rRNA')"
   ]
  },
  {
   "cell_type": "code",
   "execution_count": 7,
   "metadata": {},
   "outputs": [
    {
     "name": "stderr",
     "output_type": "stream",
     "text": [
      "/Users/indrikwijaya/anaconda3/lib/python3.6/site-packages/IPython/core/interactiveshell.py:2862: DtypeWarning: Columns (11) have mixed types. Specify dtype option on import or set low_memory=False.\n",
      "  exec(code_obj, self.user_global_ns, self.user_ns)\n"
     ]
    }
   ],
   "source": [
    "rpf_tot_1_count = combine_all_pd(rpf_tot_1_bl_files, rpf_tot_1_fa_files, 'rRNA')\n",
    "rpf_tot_2_count = combine_all_pd(rpf_tot_2_bl_files, rpf_tot_2_fa_files, 'rRNA')\n",
    "rna_tot_1_count = combine_all_pd(rna_tot_1_bl_files, rna_tot_1_fa_files, 'rRNA')\n",
    "rna_tot_2_count = combine_all_pd(rna_tot_2_bl_files, rna_tot_2_fa_files, 'rRNA')"
   ]
  },
  {
   "cell_type": "code",
   "execution_count": 13,
   "metadata": {
    "collapsed": true
   },
   "outputs": [],
   "source": [
    "def count_total_read(combined_pd):\n",
    "    lengths = list(set(map(lambda x: int(x),list(combined_pd['length']))))\n",
    "    seq_count_dict = {}\n",
    "    \n",
    "    #{seq:[chr, len, read_num]}\n",
    "    seq_readnum_all_dict = dict([(i,[a,b,c]) for i,a,b,c in zip(combined_pd.seq,combined_pd.chr,combined_pd.length,combined_pd.read_num)])\n",
    "    seq_all = seq_readnum_all_dict.keys()\n",
    "\n",
    "    for i in lengths:\n",
    "        seq_i = list(combined_pd[combined_pd['length']==i]['seq'])\n",
    "        chr_i = list(combined_pd[combined_pd['length']==i]['chr'])\n",
    "\n",
    "        #seq_all_filter = list(filter(lambda x: x not in seq_i, seq_all))\n",
    "        for k in range(len(seq_i)):\n",
    "            count = 0\n",
    "            length_appear = []\n",
    "\n",
    "            for l in seq_all:\n",
    "                if seq_i[k] == l[:len(seq_i[k])]:\n",
    "\n",
    "                    length_appear.append(int(seq_readnum_all_dict[l][1]))\n",
    "                    count += seq_readnum_all_dict[l][2]\n",
    "\n",
    "            seq_count_dict[seq_i[k]] = [chr_i[k],i,length_appear, len(length_appear),int(count)]\n",
    "    \n",
    "    seq_df = pd.DataFrame(list(seq_count_dict.items()), columns = ['seq', 'details'])\n",
    "    seq_df[['chr', 'length', 'length_appear', 'no_appear', 'read_total']] = pd.DataFrame(seq_df.details.values.tolist(), index = seq_df.index)\n",
    "    \n",
    "    seq_df = seq_df[['seq', 'chr', 'length', 'length_appear', 'no_appear', 'read_total']]\n",
    "\n",
    "    return seq_df\n",
    "\n",
    "    \n",
    "        "
   ]
  },
  {
   "cell_type": "code",
   "execution_count": 19,
   "metadata": {},
   "outputs": [],
   "source": [
    "#day 6\n",
    "gccaat_df = count_total_read(gccaat_count)\n",
    "cagatc_df = count_total_read(cagatc_count)\n",
    "acagtg_df = count_total_read(acagtg_count)\n",
    "\n",
    "#day 4\n",
    "# rpf_tot_1_df = count_total_read(rpf_tot_1_count)\n",
    "# rpf_tot_2_df = count_total_read(rpf_tot_2_count)\n",
    "# rna_tot_1_df = count_total_read(rna_tot_1_count)\n",
    "# rna_tot_2_df = count_total_read(rna_tot_2_count)"
   ]
  },
  {
   "cell_type": "code",
   "execution_count": 12,
   "metadata": {},
   "outputs": [
    {
     "data": {
      "text/html": [
       "<div>\n",
       "<style>\n",
       "    .dataframe thead tr:only-child th {\n",
       "        text-align: right;\n",
       "    }\n",
       "\n",
       "    .dataframe thead th {\n",
       "        text-align: left;\n",
       "    }\n",
       "\n",
       "    .dataframe tbody tr th {\n",
       "        vertical-align: top;\n",
       "    }\n",
       "</style>\n",
       "<table border=\"1\" class=\"dataframe\">\n",
       "  <thead>\n",
       "    <tr style=\"text-align: right;\">\n",
       "      <th></th>\n",
       "      <th>seq</th>\n",
       "      <th>chr</th>\n",
       "      <th>length</th>\n",
       "      <th>length_appear</th>\n",
       "      <th>no_appear</th>\n",
       "      <th>read_total</th>\n",
       "    </tr>\n",
       "  </thead>\n",
       "  <tbody>\n",
       "    <tr>\n",
       "      <th>0</th>\n",
       "      <td>GTGGGGGGCCCAAGTCCTTCTGATCGAGGCCC</td>\n",
       "      <td>chr5</td>\n",
       "      <td>32</td>\n",
       "      <td>[32, 33, 33, 34, 34, 34, 36, 36, 36, 36, 36]</td>\n",
       "      <td>11</td>\n",
       "      <td>403078</td>\n",
       "    </tr>\n",
       "    <tr>\n",
       "      <th>1</th>\n",
       "      <td>AGCTCCCTCCCGGCTCCGGCCGGGGGTCGGGC</td>\n",
       "      <td>chr17</td>\n",
       "      <td>32</td>\n",
       "      <td>[32, 33, 33, 34, 34, 34, 36, 36, 36, 36, 36]</td>\n",
       "      <td>11</td>\n",
       "      <td>161873</td>\n",
       "    </tr>\n",
       "    <tr>\n",
       "      <th>2</th>\n",
       "      <td>CGTGGGGGGCCCAAGTCCTTCTGATCGAGGCC</td>\n",
       "      <td>chr5</td>\n",
       "      <td>32</td>\n",
       "      <td>[32, 33, 33, 34, 34, 34, 36, 36, 36, 36, 36]</td>\n",
       "      <td>11</td>\n",
       "      <td>300940</td>\n",
       "    </tr>\n",
       "    <tr>\n",
       "      <th>3</th>\n",
       "      <td>ACGATGCCGACTGGCAATGCGGCGGCGTTATT</td>\n",
       "      <td>chr17</td>\n",
       "      <td>32</td>\n",
       "      <td>[32, 33, 33, 34, 34, 34, 36, 36, 36, 36, 36]</td>\n",
       "      <td>11</td>\n",
       "      <td>31269</td>\n",
       "    </tr>\n",
       "    <tr>\n",
       "      <th>4</th>\n",
       "      <td>AGAGCTAATACATGCCCACGGGCGCTGACCCC</td>\n",
       "      <td>chr17</td>\n",
       "      <td>32</td>\n",
       "      <td>[32, 33, 33, 34, 34, 34, 36, 36, 36, 36]</td>\n",
       "      <td>10</td>\n",
       "      <td>17452</td>\n",
       "    </tr>\n",
       "  </tbody>\n",
       "</table>\n",
       "</div>"
      ],
      "text/plain": [
       "                                seq    chr  length  \\\n",
       "0  GTGGGGGGCCCAAGTCCTTCTGATCGAGGCCC   chr5      32   \n",
       "1  AGCTCCCTCCCGGCTCCGGCCGGGGGTCGGGC  chr17      32   \n",
       "2  CGTGGGGGGCCCAAGTCCTTCTGATCGAGGCC   chr5      32   \n",
       "3  ACGATGCCGACTGGCAATGCGGCGGCGTTATT  chr17      32   \n",
       "4  AGAGCTAATACATGCCCACGGGCGCTGACCCC  chr17      32   \n",
       "\n",
       "                                  length_appear  no_appear  read_total  \n",
       "0  [32, 33, 33, 34, 34, 34, 36, 36, 36, 36, 36]         11      403078  \n",
       "1  [32, 33, 33, 34, 34, 34, 36, 36, 36, 36, 36]         11      161873  \n",
       "2  [32, 33, 33, 34, 34, 34, 36, 36, 36, 36, 36]         11      300940  \n",
       "3  [32, 33, 33, 34, 34, 34, 36, 36, 36, 36, 36]         11       31269  \n",
       "4      [32, 33, 33, 34, 34, 34, 36, 36, 36, 36]         10       17452  "
      ]
     },
     "execution_count": 12,
     "metadata": {},
     "output_type": "execute_result"
    }
   ],
   "source": [
    "gccaat_df.head()"
   ]
  },
  {
   "cell_type": "code",
   "execution_count": 9,
   "metadata": {
    "collapsed": true
   },
   "outputs": [],
   "source": [
    "def read_count_to_excel_by_read(path, df, group_by):\n",
    "    lengths = sorted(list(set(map(lambda x: int(x),list(df['length'])))))\n",
    "\n",
    "    writer = pd.ExcelWriter(path, engine = 'xlsxwriter')\n",
    "    combined_pd = pd.DataFrame(columns =['seq','chr', 'length', 'length_appear', 'no_appear','read_total'])\n",
    "    for i in lengths:\n",
    "        df_length_i = df[df['length']==i]\n",
    "        if group_by =='read_total':\n",
    "            df_length_top = df_length_i.nlargest(10, 'read_total')\n",
    "\n",
    "        else:\n",
    "            df_length_top = df_length_i.nlargest(10, 'no_appear')\n",
    "        combined_pd = pd.concat([combined_pd, df_length_top])\n",
    "            \n",
    "    combined_pd.to_excel(writer, sheet_name = 'by_read_count')\n",
    "    writer.save()"
   ]
  },
  {
   "cell_type": "code",
   "execution_count": 20,
   "metadata": {
    "collapsed": true
   },
   "outputs": [],
   "source": [
    "read_count_to_excel_by_read('/Users/indrikwijaya/Desktop/top_contaminant_1/gccaat_by_read.xlsx',gccaat_df, 'read_total')\n",
    "read_count_to_excel_by_read('/Users/indrikwijaya/Desktop/top_contaminant_1/cagatc_by_read.xlsx', cagatc_df, 'read_total')\n",
    "read_count_to_excel_by_read('/Users/indrikwijaya/Desktop/top_contaminant_1/acagtg_by_read.xlsx', acagtg_df, 'read_total')\n",
    "\n",
    "read_count_to_excel_by_read('/Users/indrikwijaya/Desktop/top_contaminant_1/gccaat_by_appear.xlsx', gccaat_df, 'no')\n",
    "read_count_to_excel_by_read('/Users/indrikwijaya/Desktop/top_contaminant_1/cagatc_by_appear.xlsx', cagatc_df, 'no')\n",
    "read_count_to_excel_by_read('/Users/indrikwijaya/Desktop/top_contaminant_1/acagtg_by_appear.xlsx', acagtg_df, 'no')"
   ]
  },
  {
   "cell_type": "code",
   "execution_count": 16,
   "metadata": {},
   "outputs": [],
   "source": [
    "read_count_to_excel_by_read('/Users/indrikwijaya/Desktop/top_contaminant_1/rpf_tot_1_by_read.xlsx', rpf_tot_1_df, 'read_total')\n",
    "read_count_to_excel_by_read('/Users/indrikwijaya/Desktop/top_contaminant_1/rpf_tot_2_by_read.xlsx', rpf_tot_2_df, ' read_total')\n",
    "read_count_to_excel_by_read('/Users/indrikwijaya/Desktop/top_contaminant_1/rna_tot_1_by_read.xlsx', rna_tot_1_df, 'read_total')\n",
    "read_count_to_excel_by_read('/Users/indrikwijaya/Desktop/top_contaminant_1/rna_tot_2_by_read.xlsx', rna_tot_2_df, 'read_total')\n",
    "\n",
    "read_count_to_excel_by_read('/Users/indrikwijaya/Desktop/top_contaminant_1/rpf_tot_1_by_appear.xlsx', rpf_tot_1_df, 'no')\n",
    "read_count_to_excel_by_read('/Users/indrikwijaya/Desktop/top_contaminant_1/rpf_tot_2_by_appear.xlsx', rpf_tot_2_df, 'no')\n",
    "read_count_to_excel_by_read('/Users/indrikwijaya/Desktop/top_contaminant_1/rna_tot_1_by_appear.xlsx', rna_tot_1_df, 'no')\n",
    "read_count_to_excel_by_read('/Users/indrikwijaya/Desktop/top_contaminant_1/rna_tot_2_by_appear.xlsx', rna_tot_2_df, 'no')"
   ]
  },
  {
   "cell_type": "code",
   "execution_count": 12,
   "metadata": {},
   "outputs": [
    {
     "data": {
      "text/html": [
       "<div>\n",
       "<style>\n",
       "    .dataframe thead tr:only-child th {\n",
       "        text-align: right;\n",
       "    }\n",
       "\n",
       "    .dataframe thead th {\n",
       "        text-align: left;\n",
       "    }\n",
       "\n",
       "    .dataframe tbody tr th {\n",
       "        vertical-align: top;\n",
       "    }\n",
       "</style>\n",
       "<table border=\"1\" class=\"dataframe\">\n",
       "  <thead>\n",
       "    <tr style=\"text-align: right;\">\n",
       "      <th></th>\n",
       "      <th>seq</th>\n",
       "      <th>chr</th>\n",
       "      <th>length</th>\n",
       "      <th>length_appear</th>\n",
       "      <th>no_appear</th>\n",
       "      <th>read_total</th>\n",
       "    </tr>\n",
       "  </thead>\n",
       "  <tbody>\n",
       "    <tr>\n",
       "      <th>0</th>\n",
       "      <td>CCGCCGAGGGCGCACCACCGGCCCGTCTCGCC</td>\n",
       "      <td>chr16</td>\n",
       "      <td>32</td>\n",
       "      <td>[32, 33, 33, 34, 34, 36, 36]</td>\n",
       "      <td>7</td>\n",
       "      <td>86333</td>\n",
       "    </tr>\n",
       "    <tr>\n",
       "      <th>1</th>\n",
       "      <td>TCCGCCGAGGGCGCACCACCGGCCCGTCTCGC</td>\n",
       "      <td>chr16</td>\n",
       "      <td>32</td>\n",
       "      <td>[32, 33, 34, 36]</td>\n",
       "      <td>4</td>\n",
       "      <td>33108</td>\n",
       "    </tr>\n",
       "    <tr>\n",
       "      <th>2</th>\n",
       "      <td>AAACGATGCCGACTGGCAATGCGGCGGCGTTA</td>\n",
       "      <td>chr17</td>\n",
       "      <td>32</td>\n",
       "      <td>[32, 33, 33, 34, 34, 34, 36, 36, 36, 36, 36]</td>\n",
       "      <td>11</td>\n",
       "      <td>23142</td>\n",
       "    </tr>\n",
       "    <tr>\n",
       "      <th>3</th>\n",
       "      <td>CGTGGGGGGCCCAAGTCCTTCTGATCGAGGCC</td>\n",
       "      <td>chr5</td>\n",
       "      <td>32</td>\n",
       "      <td>[32, 33, 33, 34, 34, 34, 36, 36, 36, 36, 36]</td>\n",
       "      <td>11</td>\n",
       "      <td>24834</td>\n",
       "    </tr>\n",
       "    <tr>\n",
       "      <th>4</th>\n",
       "      <td>GTGGGGGGCCCAAGTCCTTCTGATCGAGGCCC</td>\n",
       "      <td>chr5</td>\n",
       "      <td>32</td>\n",
       "      <td>[32, 33, 33, 34, 34, 34, 36, 36, 36, 36, 36]</td>\n",
       "      <td>11</td>\n",
       "      <td>24078</td>\n",
       "    </tr>\n",
       "  </tbody>\n",
       "</table>\n",
       "</div>"
      ],
      "text/plain": [
       "                                seq    chr  length  \\\n",
       "0  CCGCCGAGGGCGCACCACCGGCCCGTCTCGCC  chr16      32   \n",
       "1  TCCGCCGAGGGCGCACCACCGGCCCGTCTCGC  chr16      32   \n",
       "2  AAACGATGCCGACTGGCAATGCGGCGGCGTTA  chr17      32   \n",
       "3  CGTGGGGGGCCCAAGTCCTTCTGATCGAGGCC   chr5      32   \n",
       "4  GTGGGGGGCCCAAGTCCTTCTGATCGAGGCCC   chr5      32   \n",
       "\n",
       "                                  length_appear  no_appear  read_total  \n",
       "0                  [32, 33, 33, 34, 34, 36, 36]          7       86333  \n",
       "1                              [32, 33, 34, 36]          4       33108  \n",
       "2  [32, 33, 33, 34, 34, 34, 36, 36, 36, 36, 36]         11       23142  \n",
       "3  [32, 33, 33, 34, 34, 34, 36, 36, 36, 36, 36]         11       24834  \n",
       "4  [32, 33, 33, 34, 34, 34, 36, 36, 36, 36, 36]         11       24078  "
      ]
     },
     "execution_count": 12,
     "metadata": {},
     "output_type": "execute_result"
    }
   ],
   "source": [
    "rpf_tot_1_df.head()"
   ]
  },
  {
   "cell_type": "code",
   "execution_count": null,
   "metadata": {
    "collapsed": true
   },
   "outputs": [],
   "source": []
  }
 ],
 "metadata": {
  "kernelspec": {
   "display_name": "Python 3",
   "language": "python",
   "name": "python3"
  },
  "language_info": {
   "codemirror_mode": {
    "name": "ipython",
    "version": 3
   },
   "file_extension": ".py",
   "mimetype": "text/x-python",
   "name": "python",
   "nbconvert_exporter": "python",
   "pygments_lexer": "ipython3",
   "version": "3.6.3"
  }
 },
 "nbformat": 4,
 "nbformat_minor": 2
}
